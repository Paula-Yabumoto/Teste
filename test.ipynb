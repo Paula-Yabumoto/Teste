{
  "nbformat": 4,
  "nbformat_minor": 0,
  "metadata": {
    "colab": {
      "provenance": [],
      "authorship_tag": "ABX9TyN75zLKBbwxOjYLcqeatKmg"
    },
    "kernelspec": {
      "name": "python3",
      "display_name": "Python 3"
    },
    "language_info": {
      "name": "python"
    }
  },
  "cells": [
    {
      "cell_type": "code",
      "execution_count": 1,
      "metadata": {
        "colab": {
          "base_uri": "https://localhost:8080/"
        },
        "id": "ntn5IQ7ci9o1",
        "outputId": "f714fddf-3019-4523-fc7d-86897fb80ea7"
      },
      "outputs": [
        {
          "output_type": "stream",
          "name": "stdout",
          "text": [
            "olá mundo\n"
          ]
        }
      ],
      "source": [
        "print(\"olá mundo\")"
      ]
    }
  ]
}